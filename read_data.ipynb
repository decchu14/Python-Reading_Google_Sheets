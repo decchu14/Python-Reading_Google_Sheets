{
  "nbformat": 4,
  "nbformat_minor": 0,
  "metadata": {
    "colab": {
      "name": "read_data.ipynb",
      "provenance": [],
      "collapsed_sections": [],
      "authorship_tag": "ABX9TyM93bMUf94W7Ls/WBsnTVWM",
      "include_colab_link": true
    },
    "kernelspec": {
      "name": "python3",
      "display_name": "Python 3"
    },
    "language_info": {
      "name": "python"
    }
  },
  "cells": [
    {
      "cell_type": "markdown",
      "metadata": {
        "id": "view-in-github",
        "colab_type": "text"
      },
      "source": [
        "<a href=\"https://colab.research.google.com/github/decchu14/Python-Reading_Google_Sheets/blob/main/read_data.ipynb\" target=\"_parent\"><img src=\"https://colab.research.google.com/assets/colab-badge.svg\" alt=\"Open In Colab\"/></a>"
      ]
    },
    {
      "cell_type": "code",
      "metadata": {
        "id": "RhGDMDqwy_Xm"
      },
      "source": [
        "from google.colab import auth"
      ],
      "execution_count": 1,
      "outputs": []
    },
    {
      "cell_type": "code",
      "metadata": {
        "id": "ZcBbbE8qWMDC"
      },
      "source": [
        "auth.authenticate_user()"
      ],
      "execution_count": 2,
      "outputs": []
    },
    {
      "cell_type": "code",
      "metadata": {
        "id": "ewcavuLLW2gh"
      },
      "source": [
        "import requests\n",
        "import gspread"
      ],
      "execution_count": 3,
      "outputs": []
    },
    {
      "cell_type": "code",
      "metadata": {
        "id": "Rgsyx1jRXQcE"
      },
      "source": [
        "from oauth2client.client import GoogleCredentials"
      ],
      "execution_count": 4,
      "outputs": []
    },
    {
      "cell_type": "code",
      "metadata": {
        "id": "rIjiyBGVXfDC"
      },
      "source": [
        "gc = gspread.authorize(GoogleCredentials.get_application_default())"
      ],
      "execution_count": 5,
      "outputs": []
    },
    {
      "cell_type": "code",
      "metadata": {
        "id": "YZFp3l-LYngn"
      },
      "source": [
        "import pandas as pd"
      ],
      "execution_count": 6,
      "outputs": []
    },
    {
      "cell_type": "code",
      "metadata": {
        "id": "r0Vj3WZWZD2g"
      },
      "source": [
        "sheetname = \"Research intern programmes\""
      ],
      "execution_count": 7,
      "outputs": []
    },
    {
      "cell_type": "code",
      "metadata": {
        "id": "5Ce9xQ0JZMZV"
      },
      "source": [
        "sh = gc.open(sheetname)"
      ],
      "execution_count": 8,
      "outputs": []
    },
    {
      "cell_type": "code",
      "metadata": {
        "colab": {
          "base_uri": "https://localhost:8080/"
        },
        "id": "J0xxF-0GZVcb",
        "outputId": "c4357f5f-2c4b-441e-b643-ac277d39fda3"
      },
      "source": [
        "sh"
      ],
      "execution_count": 9,
      "outputs": [
        {
          "output_type": "execute_result",
          "data": {
            "text/plain": [
              "<Spreadsheet 'Research intern programmes' id:1_js0NxcOlXwwZVeWYZ_O38SLrjlSg2OHpQ03Pt5vW1A>"
            ]
          },
          "metadata": {
            "tags": []
          },
          "execution_count": 9
        }
      ]
    },
    {
      "cell_type": "code",
      "metadata": {
        "id": "STZwzYg2ZYxo"
      },
      "source": [
        "worksheet = sh.sheet1"
      ],
      "execution_count": 10,
      "outputs": []
    },
    {
      "cell_type": "code",
      "metadata": {
        "id": "VpA1crNqZkjf"
      },
      "source": [
        "values_list = worksheet.get_all_values()"
      ],
      "execution_count": 11,
      "outputs": []
    },
    {
      "cell_type": "code",
      "metadata": {
        "colab": {
          "base_uri": "https://localhost:8080/"
        },
        "id": "iFa5GYu-aynP",
        "outputId": "95ae4f1b-96a8-47b6-c551-3dfcda469b49"
      },
      "source": [
        "values_list"
      ],
      "execution_count": 12,
      "outputs": [
        {
          "output_type": "execute_result",
          "data": {
            "text/plain": [
              "[['Type of Program',\n",
              "  'Name of Program',\n",
              "  'Offered by',\n",
              "  'Deadline',\n",
              "  'Year of Study',\n",
              "  'Link'],\n",
              " ['Research',\n",
              "  'CERN openlab Summer Student Programme',\n",
              "  'CERN, geneva',\n",
              "  '27th January 2017',\n",
              "  'atleast 3rd',\n",
              "  'https://www.smartrecruiters.com/CERN/743999698739006-cern-openlab-summer-student-programme'],\n",
              " ['Studentship',\n",
              "  'Studentships in Summer (Non Member State Nationals)',\n",
              "  'CERN, geneva',\n",
              "  '27th January 2017',\n",
              "  'atleast 3rd',\n",
              "  'https://jobs.web.cern.ch/join-us/studentships-summer-non-member-state-nationals'],\n",
              " ['Research',\n",
              "  'LIGO-IndIGO Summer Students Program',\n",
              "  'Caltech',\n",
              "  '5th February 2017',\n",
              "  '',\n",
              "  'http://jobs.gw-indigo.org/tiki-index.php?page=LIGO-IndIGO+Summer+Students+Program'],\n",
              " ['Research',\n",
              "  'Nanyang Technological University (NTU) – India Connect',\n",
              "  'NTU Singapore',\n",
              "  '15th February 2017',\n",
              "  'Pre Final Year',\n",
              "  'http://global.ntu.edu.sg/GMP/ic/Pages/default.aspx'],\n",
              " ['Internship',\n",
              "  'Space Astronomy Summer Program',\n",
              "  'STSCI, Baltimore',\n",
              "  '31st January 2017',\n",
              "  'Any Year',\n",
              "  'http://www.stsci.edu/institute/smo/students/applications'],\n",
              " ['Research',\n",
              "  'Robotics Institute Summer Scholars (RISS)',\n",
              "  'Carnegie Melon',\n",
              "  '31st January 2017',\n",
              "  'atleast 2nd',\n",
              "  'http://riss.ri.cmu.edu/'],\n",
              " ['Research',\n",
              "  'Research internship to UNSW (Civil)',\n",
              "  'UNSW, Australia',\n",
              "  '27th February 2017',\n",
              "  'atleast 2nd',\n",
              "  'https://www.engineering.unsw.edu.au/civil-engineering/study-with-us/international-exchange/research-internship-to-unsw-for-international-students'],\n",
              " ['Internship',\n",
              "  'MPI-SWS internship',\n",
              "  'Max Planck Institute for Software Systems',\n",
              "  '31st January 2017',\n",
              "  'atleast 2nd',\n",
              "  'https://www.mpi-sws.org/research-careers/#internships'],\n",
              " ['Research',\n",
              "  'Taiwan International Graduate Program',\n",
              "  'Academia Sinica,Taiwan',\n",
              "  '28th February 2017',\n",
              "  'atleast 3rd',\n",
              "  'http://db1x.sinica.edu.tw/tigpSummer/'],\n",
              " ['Internship',\n",
              "  'Summer Research Programme Internship',\n",
              "  'Institute Of Science And Technology Austria',\n",
              "  '15th February 2017',\n",
              "  'atleast 2nd',\n",
              "  'https://ist.ac.at/research/internships/'],\n",
              " ['Research',\n",
              "  'Caltech -SURF',\n",
              "  'Caltech',\n",
              "  '22nd February 2017',\n",
              "  'atleast 2nd',\n",
              "  'https://www.sfp.caltech.edu/programs/surf/program_description'],\n",
              " ['Research',\n",
              "  'DESY Summer Student Program',\n",
              "  'Germany',\n",
              "  '31st January 2017',\n",
              "  'penultimate',\n",
              "  'http://summerstudents.desy.de/'],\n",
              " ['Industrial',\n",
              "  'Research in Industrial Projects for Students (RIPS) 2017',\n",
              "  '',\n",
              "  '14th February 2017',\n",
              "  '',\n",
              "  'http://www.ipam.ucla.edu/programs/student-research-programs/research-in-industrial-projects-for-students-rips-2017/'],\n",
              " ['Research',\n",
              "  'MITACS Globalink',\n",
              "  'Canada',\n",
              "  '',\n",
              "  'pre-final',\n",
              "  'http://www.mitacs.ca'],\n",
              " ['Research',\n",
              "  'IUSSTF-Viterbi School of Engineering USC Summer Program',\n",
              "  'University of Southern California, USA',\n",
              "  '',\n",
              "  'pre-final',\n",
              "  'http://iusstf.org/story/53-51-IUSSTF-Viterbi-Program.html'],\n",
              " ['Research',\n",
              "  'Visiting Student Research Program',\n",
              "  'TIFR',\n",
              "  '31st January 2018',\n",
              "  'atleast 2nd',\n",
              "  'http://www.tifr.res.in/~vsrp/vsrp2018/VSRP2018.htm'],\n",
              " ['Research',\n",
              "  'Summer Programs for Undergraduate Research',\n",
              "  'UCLA, USA',\n",
              "  '31st March 2018',\n",
              "  '',\n",
              "  'https://grad.ucla.edu/admissions/diversity/summer-programs-for-undergraduate-research-spur/'],\n",
              " ['Scholarship',\n",
              "  'Charpak Scholarship',\n",
              "  'France',\n",
              "  '',\n",
              "  '',\n",
              "  'https://www.inde.campusfrance.org/charpak-scholarships'],\n",
              " ['Scholarship', 'DAAD', 'Germany', '', '', 'https://www.daad.de/en/'],\n",
              " ['Research',\n",
              "  'Summer@EPFL',\n",
              "  'EPFL, Switzerland',\n",
              "  '1st Feb',\n",
              "  'atleast 2nd',\n",
              "  'https://summer.epfl.ch/']]"
            ]
          },
          "metadata": {
            "tags": []
          },
          "execution_count": 12
        }
      ]
    },
    {
      "cell_type": "code",
      "metadata": {
        "id": "UwQTRCI0a0ox"
      },
      "source": [
        "df = pd.DataFrame(values_list)"
      ],
      "execution_count": 13,
      "outputs": []
    },
    {
      "cell_type": "code",
      "metadata": {
        "colab": {
          "base_uri": "https://localhost:8080/",
          "height": 204
        },
        "id": "oXGhJazTbB3D",
        "outputId": "47e6350e-2908-4514-f92d-1ac42d921e84"
      },
      "source": [
        "df.head()"
      ],
      "execution_count": 14,
      "outputs": [
        {
          "output_type": "execute_result",
          "data": {
            "text/html": [
              "<div>\n",
              "<style scoped>\n",
              "    .dataframe tbody tr th:only-of-type {\n",
              "        vertical-align: middle;\n",
              "    }\n",
              "\n",
              "    .dataframe tbody tr th {\n",
              "        vertical-align: top;\n",
              "    }\n",
              "\n",
              "    .dataframe thead th {\n",
              "        text-align: right;\n",
              "    }\n",
              "</style>\n",
              "<table border=\"1\" class=\"dataframe\">\n",
              "  <thead>\n",
              "    <tr style=\"text-align: right;\">\n",
              "      <th></th>\n",
              "      <th>0</th>\n",
              "      <th>1</th>\n",
              "      <th>2</th>\n",
              "      <th>3</th>\n",
              "      <th>4</th>\n",
              "      <th>5</th>\n",
              "    </tr>\n",
              "  </thead>\n",
              "  <tbody>\n",
              "    <tr>\n",
              "      <th>0</th>\n",
              "      <td>Type of Program</td>\n",
              "      <td>Name of Program</td>\n",
              "      <td>Offered by</td>\n",
              "      <td>Deadline</td>\n",
              "      <td>Year of Study</td>\n",
              "      <td>Link</td>\n",
              "    </tr>\n",
              "    <tr>\n",
              "      <th>1</th>\n",
              "      <td>Research</td>\n",
              "      <td>CERN openlab Summer Student Programme</td>\n",
              "      <td>CERN, geneva</td>\n",
              "      <td>27th January 2017</td>\n",
              "      <td>atleast 3rd</td>\n",
              "      <td>https://www.smartrecruiters.com/CERN/743999698...</td>\n",
              "    </tr>\n",
              "    <tr>\n",
              "      <th>2</th>\n",
              "      <td>Studentship</td>\n",
              "      <td>Studentships in Summer (Non Member State Natio...</td>\n",
              "      <td>CERN, geneva</td>\n",
              "      <td>27th January 2017</td>\n",
              "      <td>atleast 3rd</td>\n",
              "      <td>https://jobs.web.cern.ch/join-us/studentships-...</td>\n",
              "    </tr>\n",
              "    <tr>\n",
              "      <th>3</th>\n",
              "      <td>Research</td>\n",
              "      <td>LIGO-IndIGO Summer Students Program</td>\n",
              "      <td>Caltech</td>\n",
              "      <td>5th February 2017</td>\n",
              "      <td></td>\n",
              "      <td>http://jobs.gw-indigo.org/tiki-index.php?page=...</td>\n",
              "    </tr>\n",
              "    <tr>\n",
              "      <th>4</th>\n",
              "      <td>Research</td>\n",
              "      <td>Nanyang Technological University (NTU) – India...</td>\n",
              "      <td>NTU Singapore</td>\n",
              "      <td>15th February 2017</td>\n",
              "      <td>Pre Final Year</td>\n",
              "      <td>http://global.ntu.edu.sg/GMP/ic/Pages/default....</td>\n",
              "    </tr>\n",
              "  </tbody>\n",
              "</table>\n",
              "</div>"
            ],
            "text/plain": [
              "                 0  ...                                                  5\n",
              "0  Type of Program  ...                                               Link\n",
              "1         Research  ...  https://www.smartrecruiters.com/CERN/743999698...\n",
              "2      Studentship  ...  https://jobs.web.cern.ch/join-us/studentships-...\n",
              "3         Research  ...  http://jobs.gw-indigo.org/tiki-index.php?page=...\n",
              "4         Research  ...  http://global.ntu.edu.sg/GMP/ic/Pages/default....\n",
              "\n",
              "[5 rows x 6 columns]"
            ]
          },
          "metadata": {
            "tags": []
          },
          "execution_count": 14
        }
      ]
    },
    {
      "cell_type": "code",
      "metadata": {
        "id": "hMpjt0HsbE-i"
      },
      "source": [
        ""
      ],
      "execution_count": null,
      "outputs": []
    }
  ]
}